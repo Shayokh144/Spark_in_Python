{
 "cells": [
  {
   "cell_type": "code",
   "execution_count": 1,
   "metadata": {
    "collapsed": true
   },
   "outputs": [],
   "source": [
    "import findspark\n",
    "findspark.init('/home/asif/spark-2.1.0-bin-hadoop2.7')\n",
    "from pyspark.sql import SparkSession\n",
    "spark = SparkSession.builder.appName('MovieReco').getOrCreate()"
   ]
  },
  {
   "cell_type": "markdown",
   "metadata": {},
   "source": [
    "## This dataset is too large to include here . the link is : [Movie lens dataset](https://grouplens.org/datasets/movielens/)"
   ]
  },
  {
   "cell_type": "code",
   "execution_count": 2,
   "metadata": {
    "collapsed": true
   },
   "outputs": [],
   "source": [
    "from pyspark.ml.recommendation import ALS\n",
    "from pyspark.ml.evaluation import RegressionEvaluator"
   ]
  },
  {
   "cell_type": "code",
   "execution_count": 7,
   "metadata": {
    "collapsed": true
   },
   "outputs": [],
   "source": [
    "data = spark.read.csv('ratings.csv',inferSchema=True,header=True)"
   ]
  },
  {
   "cell_type": "code",
   "execution_count": 8,
   "metadata": {},
   "outputs": [
    {
     "data": {
      "text/plain": [
       "20000263"
      ]
     },
     "execution_count": 8,
     "metadata": {},
     "output_type": "execute_result"
    }
   ],
   "source": [
    "data.count()"
   ]
  },
  {
   "cell_type": "code",
   "execution_count": 9,
   "metadata": {},
   "outputs": [
    {
     "name": "stdout",
     "output_type": "stream",
     "text": [
      "+-------+-----------------+------------------+------------------+--------------------+\n",
      "|summary|           userId|           movieId|            rating|           timestamp|\n",
      "+-------+-----------------+------------------+------------------+--------------------+\n",
      "|  count|         20000263|          20000263|          20000263|            20000263|\n",
      "|   mean|69045.87258292554| 9041.567330339605|3.5255285642993797|1.1009179216771157E9|\n",
      "| stddev|40038.62665316201|19789.477445413086| 1.051988919294227|1.6216942478273067E8|\n",
      "|    min|                1|                 1|               0.5|           789652004|\n",
      "|    max|           138493|            131262|               5.0|          1427784002|\n",
      "+-------+-----------------+------------------+------------------+--------------------+\n",
      "\n"
     ]
    }
   ],
   "source": [
    "data.describe().show()"
   ]
  },
  {
   "cell_type": "code",
   "execution_count": 16,
   "metadata": {
    "collapsed": true
   },
   "outputs": [],
   "source": [
    "training, test = data.randomSplit([0.95,0.05])"
   ]
  },
  {
   "cell_type": "code",
   "execution_count": 17,
   "metadata": {
    "collapsed": true
   },
   "outputs": [],
   "source": [
    "als = ALS(maxIter=5,regParam=0.01,userCol='userId',itemCol='movieId',ratingCol='rating')"
   ]
  },
  {
   "cell_type": "code",
   "execution_count": 18,
   "metadata": {
    "collapsed": true
   },
   "outputs": [],
   "source": [
    "trained_model = als.fit(training)"
   ]
  },
  {
   "cell_type": "code",
   "execution_count": 25,
   "metadata": {
    "collapsed": true
   },
   "outputs": [],
   "source": [
    "predictions = trained_model.transform(test)"
   ]
  },
  {
   "cell_type": "code",
   "execution_count": 20,
   "metadata": {},
   "outputs": [
    {
     "name": "stdout",
     "output_type": "stream",
     "text": [
      "+------+-------+------+----------+----------+\n",
      "|userId|movieId|rating| timestamp|prediction|\n",
      "+------+-------+------+----------+----------+\n",
      "| 74757|    148|   3.5|1064853335|  3.091398|\n",
      "| 92852|    148|   3.0| 839813031| 2.4858449|\n",
      "| 36821|    148|   4.0| 979367598| 2.6552389|\n",
      "| 83090|    148|   2.0|1030400425| 2.1114237|\n",
      "|  1259|    148|   5.0| 828625487|  2.932781|\n",
      "| 54726|    148|   5.0| 832703670| 3.6909611|\n",
      "| 90757|    148|   3.0| 970000570| 3.4056427|\n",
      "| 81300|    148|   1.0| 983118964| 2.8901615|\n",
      "| 68242|    148|   3.0|1047397251| 2.4199088|\n",
      "|109910|    148|   2.0| 907093395|  2.107089|\n",
      "| 70446|    148|   2.0| 945907892| 2.7358654|\n",
      "| 44926|    148|   2.0| 839943770|  2.791694|\n",
      "|104919|    148|   3.0| 857133054| 3.6221476|\n",
      "| 36200|    148|   3.0| 828231965| 3.3647413|\n",
      "| 73654|    148|   4.0| 833509066| 3.6824224|\n",
      "|107346|    148|   3.0| 853421750| 2.5520804|\n",
      "|132466|    148|   3.0| 945399307| 2.7650256|\n",
      "| 91723|    148|   4.0| 828042393| 3.2435424|\n",
      "| 59340|    148|   4.0|1034547175| 2.7807164|\n",
      "| 22766|    148|   3.0| 843080530|  2.071626|\n",
      "+------+-------+------+----------+----------+\n",
      "only showing top 20 rows\n",
      "\n"
     ]
    }
   ],
   "source": [
    "predictions.show()"
   ]
  },
  {
   "cell_type": "code",
   "execution_count": 26,
   "metadata": {
    "collapsed": true
   },
   "outputs": [],
   "source": [
    "evaluator = RegressionEvaluator(metricName='rmse', labelCol='rating', predictionCol='prediction')"
   ]
  },
  {
   "cell_type": "code",
   "execution_count": 27,
   "metadata": {},
   "outputs": [
    {
     "name": "stdout",
     "output_type": "stream",
     "text": [
      "RMSE= nan\n"
     ]
    }
   ],
   "source": [
    "rmse =  evaluator.evaluate(predictions)\n",
    "print('RMSE=',rmse)\n"
   ]
  },
  {
   "cell_type": "code",
   "execution_count": 28,
   "metadata": {},
   "outputs": [
    {
     "name": "stdout",
     "output_type": "stream",
     "text": [
      "+-------+------+\n",
      "|movieId|userId|\n",
      "+-------+------+\n",
      "|    380|    11|\n",
      "|    595|    11|\n",
      "|    736|    11|\n",
      "|    741|    11|\n",
      "|   1136|    11|\n",
      "|   3159|    11|\n",
      "|   3438|    11|\n",
      "|   4105|    11|\n",
      "|   5378|    11|\n",
      "|   6711|    11|\n",
      "|   6874|    11|\n",
      "|   7439|    11|\n",
      "|   8907|    11|\n",
      "|  30707|    11|\n",
      "|  33679|    11|\n",
      "|  36401|    11|\n",
      "|  43928|    11|\n",
      "|  43936|    11|\n",
      "|  44225|    11|\n",
      "|  44731|    11|\n",
      "+-------+------+\n",
      "only showing top 20 rows\n",
      "\n"
     ]
    }
   ],
   "source": [
    "single_user = test.filter(test['userId']==11).select(['movieId','userId'])\n",
    "single_user.show()"
   ]
  },
  {
   "cell_type": "code",
   "execution_count": 29,
   "metadata": {},
   "outputs": [
    {
     "name": "stdout",
     "output_type": "stream",
     "text": [
      "+-------+------+----------+\n",
      "|movieId|userId|prediction|\n",
      "+-------+------+----------+\n",
      "|    595|    11| 4.5475717|\n",
      "|   6874|    11| 4.3705063|\n",
      "|  56174|    11|  4.257205|\n",
      "|  56757|    11| 4.2407002|\n",
      "|   5378|    11|  4.226343|\n",
      "|   1136|    11|  4.225267|\n",
      "|  30707|    11| 4.1249785|\n",
      "|  33679|    11|  4.041348|\n",
      "|   3159|    11|  4.010023|\n",
      "|    741|    11| 3.9870813|\n",
      "|  58025|    11| 3.8815458|\n",
      "|  36401|    11| 3.8535488|\n",
      "|  43936|    11|  3.837541|\n",
      "|    736|    11| 3.8061619|\n",
      "|    380|    11| 3.7669373|\n",
      "|   6711|    11| 3.7245393|\n",
      "|   8907|    11| 3.7160368|\n",
      "|   3438|    11| 3.7133937|\n",
      "|  64497|    11|  3.666827|\n",
      "|   7439|    11| 3.5691798|\n",
      "+-------+------+----------+\n",
      "only showing top 20 rows\n",
      "\n"
     ]
    }
   ],
   "source": [
    "recomendations = trained_model.transform(single_user)\n",
    "recomendations.orderBy('prediction',ascending=False).show()"
   ]
  },
  {
   "cell_type": "code",
   "execution_count": null,
   "metadata": {
    "collapsed": true
   },
   "outputs": [],
   "source": []
  }
 ],
 "metadata": {
  "kernelspec": {
   "display_name": "Python 3",
   "language": "python",
   "name": "python3"
  },
  "language_info": {
   "codemirror_mode": {
    "name": "ipython",
    "version": 3
   },
   "file_extension": ".py",
   "mimetype": "text/x-python",
   "name": "python",
   "nbconvert_exporter": "python",
   "pygments_lexer": "ipython3",
   "version": "3.5.4"
  }
 },
 "nbformat": 4,
 "nbformat_minor": 2
}

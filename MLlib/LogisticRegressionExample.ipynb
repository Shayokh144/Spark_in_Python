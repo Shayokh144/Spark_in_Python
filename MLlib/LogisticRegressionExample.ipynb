{
 "cells": [
  {
   "cell_type": "code",
   "execution_count": 1,
   "metadata": {},
   "outputs": [],
   "source": [
    "import findspark\n",
    "findspark.init('/home/asif/spark-2.1.0-bin-hadoop2.7')\n",
    "from pyspark.sql import SparkSession # to load dataframe we need this\n",
    "spark = SparkSession.builder.appName('LogRegChurnDetais').getOrCreate()\n",
    "from pyspark.ml.classification import LogisticRegression"
   ]
  },
  {
   "cell_type": "code",
   "execution_count": 2,
   "metadata": {},
   "outputs": [],
   "source": [
    "data = spark.read.csv('ChurnData.txt', inferSchema=True, header=True,sep=',' )"
   ]
  },
  {
   "cell_type": "code",
   "execution_count": 3,
   "metadata": {},
   "outputs": [
    {
     "name": "stdout",
     "output_type": "stream",
     "text": [
      "root\n",
      " |-- State: string (nullable = true)\n",
      " |-- Account Length: integer (nullable = true)\n",
      " |-- Area Code: integer (nullable = true)\n",
      " |-- Phone: string (nullable = true)\n",
      " |-- Int'l Plan: string (nullable = true)\n",
      " |-- VMail Plan: string (nullable = true)\n",
      " |-- VMail Message: integer (nullable = true)\n",
      " |-- Day Mins: double (nullable = true)\n",
      " |-- Day Calls: integer (nullable = true)\n",
      " |-- Day Charge: double (nullable = true)\n",
      " |-- Eve Mins: double (nullable = true)\n",
      " |-- Eve Calls: integer (nullable = true)\n",
      " |-- Eve Charge: double (nullable = true)\n",
      " |-- Night Mins: double (nullable = true)\n",
      " |-- Night Calls: integer (nullable = true)\n",
      " |-- Night Charge: double (nullable = true)\n",
      " |-- Intl Mins: double (nullable = true)\n",
      " |-- Intl Calls: integer (nullable = true)\n",
      " |-- Intl Charge: double (nullable = true)\n",
      " |-- CustServ Calls: integer (nullable = true)\n",
      " |-- Churn?: string (nullable = true)\n",
      "\n"
     ]
    }
   ],
   "source": [
    "data.printSchema()"
   ]
  },
  {
   "cell_type": "code",
   "execution_count": 4,
   "metadata": {},
   "outputs": [
    {
     "name": "stdout",
     "output_type": "stream",
     "text": [
      "number of columns =  21\n"
     ]
    },
    {
     "data": {
      "text/plain": [
       "['State',\n",
       " 'Account Length',\n",
       " 'Area Code',\n",
       " 'Phone',\n",
       " \"Int'l Plan\",\n",
       " 'VMail Plan',\n",
       " 'VMail Message',\n",
       " 'Day Mins',\n",
       " 'Day Calls',\n",
       " 'Day Charge',\n",
       " 'Eve Mins',\n",
       " 'Eve Calls',\n",
       " 'Eve Charge',\n",
       " 'Night Mins',\n",
       " 'Night Calls',\n",
       " 'Night Charge',\n",
       " 'Intl Mins',\n",
       " 'Intl Calls',\n",
       " 'Intl Charge',\n",
       " 'CustServ Calls',\n",
       " 'Churn?']"
      ]
     },
     "execution_count": 4,
     "metadata": {},
     "output_type": "execute_result"
    }
   ],
   "source": [
    "print('number of columns = ',len(data.columns))# how many columns\n",
    "data.columns    # list of names of the column "
   ]
  },
  {
   "cell_type": "code",
   "execution_count": 5,
   "metadata": {},
   "outputs": [
    {
     "data": {
      "text/plain": [
       "['State',\n",
       " 'Account_Length',\n",
       " 'Area_Code',\n",
       " 'Phone',\n",
       " \"Int'l_Plan\",\n",
       " 'VMail_Plan',\n",
       " 'VMail_Message',\n",
       " 'Day_Mins',\n",
       " 'Day_Calls',\n",
       " 'Day_Charge',\n",
       " 'Eve_Mins',\n",
       " 'Eve_Calls',\n",
       " 'Eve_Charge',\n",
       " 'Night_Mins',\n",
       " 'Night_Calls',\n",
       " 'Night_Charge',\n",
       " 'Intl_Mins',\n",
       " 'Intl_Calls',\n",
       " 'Intl_Charge',\n",
       " 'CustServ_Calls',\n",
       " 'Churn?']"
      ]
     },
     "execution_count": 5,
     "metadata": {},
     "output_type": "execute_result"
    }
   ],
   "source": [
    "\n",
    "import re\n",
    "data = data.toDF(*(re.sub(r'[\\.\\s]+', '_', c) for c in data.columns))\n",
    "data.columns"
   ]
  },
  {
   "cell_type": "code",
   "execution_count": 6,
   "metadata": {},
   "outputs": [
    {
     "name": "stdout",
     "output_type": "stream",
     "text": [
      "root\n",
      " |-- State: string (nullable = true)\n",
      " |-- Account_Length: integer (nullable = true)\n",
      " |-- Area_Code: integer (nullable = true)\n",
      " |-- Phone: string (nullable = true)\n",
      " |-- Int'l_Plan: string (nullable = true)\n",
      " |-- VMail_Plan: string (nullable = true)\n",
      " |-- VMail_Message: integer (nullable = true)\n",
      " |-- Day_Mins: double (nullable = true)\n",
      " |-- Day_Calls: integer (nullable = true)\n",
      " |-- Day_Charge: double (nullable = true)\n",
      " |-- Eve_Mins: double (nullable = true)\n",
      " |-- Eve_Calls: integer (nullable = true)\n",
      " |-- Eve_Charge: double (nullable = true)\n",
      " |-- Night_Mins: double (nullable = true)\n",
      " |-- Night_Calls: integer (nullable = true)\n",
      " |-- Night_Charge: double (nullable = true)\n",
      " |-- Intl_Mins: double (nullable = true)\n",
      " |-- Intl_Calls: integer (nullable = true)\n",
      " |-- Intl_Charge: double (nullable = true)\n",
      " |-- CustServ_Calls: integer (nullable = true)\n",
      " |-- Churn?: string (nullable = true)\n",
      " |-- new_Churn: integer (nullable = true)\n",
      "\n"
     ]
    }
   ],
   "source": [
    "from pyspark.sql.functions import col, udf\n",
    "from pyspark.sql.types import IntegerType\n",
    "func =  udf (lambda x: 0 if x=='False.' else 1, IntegerType())\n",
    "data = data.withColumn('new_Churn', func(col('Churn?')))\n",
    "\n",
    "data.printSchema()"
   ]
  },
  {
   "cell_type": "code",
   "execution_count": 7,
   "metadata": {},
   "outputs": [
    {
     "data": {
      "text/plain": [
       "[Row(State='KS', Account_Length=128, Area_Code=415, Phone='382-4657', Int'l_Plan='no', VMail_Plan='yes', VMail_Message=25, Day_Mins=265.1, Day_Calls=110, Day_Charge=45.07, Eve_Mins=197.4, Eve_Calls=99, Eve_Charge=16.78, Night_Mins=244.7, Night_Calls=91, Night_Charge=11.01, Intl_Mins=10.0, Intl_Calls=3, Intl_Charge=2.7, CustServ_Calls=1, Churn?='False.', new_Churn=0)]"
      ]
     },
     "execution_count": 7,
     "metadata": {},
     "output_type": "execute_result"
    }
   ],
   "source": [
    "data.head(1)"
   ]
  },
  {
   "cell_type": "code",
   "execution_count": 8,
   "metadata": {},
   "outputs": [
    {
     "name": "stdout",
     "output_type": "stream",
     "text": [
      "root\n",
      " |-- State: string (nullable = true)\n",
      " |-- Account_Length: integer (nullable = true)\n",
      " |-- Area_Code: integer (nullable = true)\n",
      " |-- Phone: string (nullable = true)\n",
      " |-- Int'l_Plan: string (nullable = true)\n",
      " |-- VMail_Plan: string (nullable = true)\n",
      " |-- VMail_Message: integer (nullable = true)\n",
      " |-- Day_Mins: double (nullable = true)\n",
      " |-- Day_Calls: integer (nullable = true)\n",
      " |-- Day_Charge: double (nullable = true)\n",
      " |-- Eve_Mins: double (nullable = true)\n",
      " |-- Eve_Calls: integer (nullable = true)\n",
      " |-- Eve_Charge: double (nullable = true)\n",
      " |-- Night_Mins: double (nullable = true)\n",
      " |-- Night_Calls: integer (nullable = true)\n",
      " |-- Night_Charge: double (nullable = true)\n",
      " |-- Intl_Mins: double (nullable = true)\n",
      " |-- Intl_Calls: integer (nullable = true)\n",
      " |-- Intl_Charge: double (nullable = true)\n",
      " |-- CustServ_Calls: integer (nullable = true)\n",
      " |-- Churn?: string (nullable = true)\n",
      " |-- new_Churn: integer (nullable = true)\n",
      " |-- new_IntlPlan: integer (nullable = true)\n",
      "\n"
     ]
    }
   ],
   "source": [
    "func =  udf (lambda x: 0 if x=='no' else 1, IntegerType())\n",
    "data = data.withColumn('new_IntlPlan', func(col('Int\\'l_Plan')))\n",
    "\n",
    "data.printSchema()"
   ]
  },
  {
   "cell_type": "code",
   "execution_count": 9,
   "metadata": {},
   "outputs": [
    {
     "name": "stdout",
     "output_type": "stream",
     "text": [
      "+-------+------------------+\n",
      "|summary|      new_IntlPlan|\n",
      "+-------+------------------+\n",
      "|  count|              3333|\n",
      "|   mean|0.0969096909690969|\n",
      "| stddev|0.2958791454844147|\n",
      "|    min|                 0|\n",
      "|    max|                 1|\n",
      "+-------+------------------+\n",
      "\n"
     ]
    }
   ],
   "source": [
    "data.describe(\"new_IntlPlan\").show()"
   ]
  },
  {
   "cell_type": "code",
   "execution_count": 10,
   "metadata": {},
   "outputs": [],
   "source": [
    "data = data.drop('Churn?','Int\\'l_Plan') "
   ]
  },
  {
   "cell_type": "code",
   "execution_count": 11,
   "metadata": {},
   "outputs": [
    {
     "name": "stdout",
     "output_type": "stream",
     "text": [
      "root\n",
      " |-- State: string (nullable = true)\n",
      " |-- Account_Length: integer (nullable = true)\n",
      " |-- Area_Code: integer (nullable = true)\n",
      " |-- Phone: string (nullable = true)\n",
      " |-- VMail_Plan: string (nullable = true)\n",
      " |-- VMail_Message: integer (nullable = true)\n",
      " |-- Day_Mins: double (nullable = true)\n",
      " |-- Day_Calls: integer (nullable = true)\n",
      " |-- Day_Charge: double (nullable = true)\n",
      " |-- Eve_Mins: double (nullable = true)\n",
      " |-- Eve_Calls: integer (nullable = true)\n",
      " |-- Eve_Charge: double (nullable = true)\n",
      " |-- Night_Mins: double (nullable = true)\n",
      " |-- Night_Calls: integer (nullable = true)\n",
      " |-- Night_Charge: double (nullable = true)\n",
      " |-- Intl_Mins: double (nullable = true)\n",
      " |-- Intl_Calls: integer (nullable = true)\n",
      " |-- Intl_Charge: double (nullable = true)\n",
      " |-- CustServ_Calls: integer (nullable = true)\n",
      " |-- new_Churn: integer (nullable = true)\n",
      " |-- new_IntlPlan: integer (nullable = true)\n",
      " |-- new_VMailPlan: integer (nullable = true)\n",
      "\n"
     ]
    }
   ],
   "source": [
    "func =  udf (lambda x: 0 if x=='no' else 1, IntegerType())\n",
    "data = data.withColumn('new_VMailPlan', func(col('VMail_Plan')))\n",
    "data = data.drop('VMail Plan') \n",
    "data.printSchema()"
   ]
  },
  {
   "cell_type": "code",
   "execution_count": 12,
   "metadata": {},
   "outputs": [
    {
     "name": "stdout",
     "output_type": "stream",
     "text": [
      "+-------+-------------------+\n",
      "|summary|      new_VMailPlan|\n",
      "+-------+-------------------+\n",
      "|  count|               3333|\n",
      "|   mean|0.27662766276627665|\n",
      "| stddev| 0.4473978703800645|\n",
      "|    min|                  0|\n",
      "|    max|                  1|\n",
      "+-------+-------------------+\n",
      "\n"
     ]
    }
   ],
   "source": [
    "data.describe(\"new_VMailPlan\").show()"
   ]
  },
  {
   "cell_type": "code",
   "execution_count": 13,
   "metadata": {},
   "outputs": [
    {
     "data": {
      "text/plain": [
       "['State',\n",
       " 'Account_Length',\n",
       " 'Area_Code',\n",
       " 'Phone',\n",
       " 'VMail_Plan',\n",
       " 'VMail_Message',\n",
       " 'Day_Mins',\n",
       " 'Day_Calls',\n",
       " 'Day_Charge',\n",
       " 'Eve_Mins',\n",
       " 'Eve_Calls',\n",
       " 'Eve_Charge',\n",
       " 'Night_Mins',\n",
       " 'Night_Calls',\n",
       " 'Night_Charge',\n",
       " 'Intl_Mins',\n",
       " 'Intl_Calls',\n",
       " 'Intl_Charge',\n",
       " 'CustServ_Calls',\n",
       " 'new_Churn',\n",
       " 'new_IntlPlan',\n",
       " 'new_VMailPlan']"
      ]
     },
     "execution_count": 13,
     "metadata": {},
     "output_type": "execute_result"
    }
   ],
   "source": [
    "data.columns"
   ]
  },
  {
   "cell_type": "code",
   "execution_count": 14,
   "metadata": {},
   "outputs": [],
   "source": [
    "from pyspark.ml.linalg import Vectors\n",
    "from pyspark.ml.feature import VectorAssembler\n",
    "assembler = VectorAssembler(inputCols =['Account_Length','Area_Code','Day_Mins','Day_Calls','Day_Charge','Eve_Mins',\n",
    "                                      'Eve_Calls','Eve_Charge','Night_Mins','Night_Calls','Night_Charge',\n",
    "                                      'Intl_Mins','Intl_Calls','Intl_Charge','CustServ_Calls','new_IntlPlan','new_VMailPlan'],\n",
    "                            outputCol = 'features')\n",
    "# VectorAssembler convert all the inputCols to a dense vector fro each row and output it as 'features'\n",
    "# we have to do this to satisfy the format which spark mllib deals with"
   ]
  },
  {
   "cell_type": "code",
   "execution_count": 15,
   "metadata": {},
   "outputs": [
    {
     "data": {
      "text/plain": [
       "[Row(State='KS', Account_Length=128, Area_Code=415, Phone='382-4657', VMail_Plan='yes', VMail_Message=25, Day_Mins=265.1, Day_Calls=110, Day_Charge=45.07, Eve_Mins=197.4, Eve_Calls=99, Eve_Charge=16.78, Night_Mins=244.7, Night_Calls=91, Night_Charge=11.01, Intl_Mins=10.0, Intl_Calls=3, Intl_Charge=2.7, CustServ_Calls=1, new_Churn=0, new_IntlPlan=0, new_VMailPlan=1, features=DenseVector([128.0, 415.0, 265.1, 110.0, 45.07, 197.4, 99.0, 16.78, 244.7, 91.0, 11.01, 10.0, 3.0, 2.7, 1.0, 0.0, 1.0]))]"
      ]
     },
     "execution_count": 15,
     "metadata": {},
     "output_type": "execute_result"
    }
   ],
   "source": [
    "dataFromAssembler = assembler.transform(data)\n",
    "dataFromAssembler.head(1)"
   ]
  },
  {
   "cell_type": "code",
   "execution_count": 16,
   "metadata": {},
   "outputs": [
    {
     "data": {
      "text/plain": [
       "[Row(features=DenseVector([128.0, 415.0, 265.1, 110.0, 45.07, 197.4, 99.0, 16.78, 244.7, 91.0, 11.01, 10.0, 3.0, 2.7, 1.0, 0.0, 1.0]), new_Churn=0)]"
      ]
     },
     "execution_count": 16,
     "metadata": {},
     "output_type": "execute_result"
    }
   ],
   "source": [
    "final_data = dataFromAssembler.select('features','new_Churn')\n",
    "final_data.head(1)"
   ]
  },
  {
   "cell_type": "code",
   "execution_count": 17,
   "metadata": {},
   "outputs": [],
   "source": [
    "train_data, test_data = final_data.randomSplit([0.7,0.3])"
   ]
  },
  {
   "cell_type": "code",
   "execution_count": 18,
   "metadata": {},
   "outputs": [
    {
     "name": "stdout",
     "output_type": "stream",
     "text": [
      "+-------+-------------------+\n",
      "|summary|          new_Churn|\n",
      "+-------+-------------------+\n",
      "|  count|               3333|\n",
      "|   mean|0.14491449144914492|\n",
      "| stddev|  0.352067423624126|\n",
      "|    min|                  0|\n",
      "|    max|                  1|\n",
      "+-------+-------------------+\n",
      "\n"
     ]
    }
   ],
   "source": [
    "final_data.describe().show()"
   ]
  },
  {
   "cell_type": "code",
   "execution_count": 19,
   "metadata": {},
   "outputs": [],
   "source": [
    "log_reg_model = LogisticRegression(labelCol='new_Churn')\n"
   ]
  },
  {
   "cell_type": "code",
   "execution_count": 20,
   "metadata": {},
   "outputs": [],
   "source": [
    "trained_model = log_reg_model.fit(train_data)\n"
   ]
  },
  {
   "cell_type": "code",
   "execution_count": 21,
   "metadata": {},
   "outputs": [],
   "source": [
    "training_sum = trained_model.summary"
   ]
  },
  {
   "cell_type": "code",
   "execution_count": 22,
   "metadata": {},
   "outputs": [
    {
     "name": "stdout",
     "output_type": "stream",
     "text": [
      "+-------+-------------------+-------------------+\n",
      "|summary|          new_Churn|         prediction|\n",
      "+-------+-------------------+-------------------+\n",
      "|  count|               2337|               2337|\n",
      "|   mean|0.14505776636713735|0.05648267008985879|\n",
      "| stddev| 0.3522344387328226|0.23090082630295647|\n",
      "|    min|                0.0|                0.0|\n",
      "|    max|                1.0|                1.0|\n",
      "+-------+-------------------+-------------------+\n",
      "\n"
     ]
    }
   ],
   "source": [
    "training_sum.predictions.describe().show()"
   ]
  },
  {
   "cell_type": "code",
   "execution_count": 23,
   "metadata": {},
   "outputs": [],
   "source": [
    "predict_and_labels = trained_model.evaluate(test_data)"
   ]
  },
  {
   "cell_type": "code",
   "execution_count": 24,
   "metadata": {},
   "outputs": [
    {
     "name": "stdout",
     "output_type": "stream",
     "text": [
      "+--------------------+---------+--------------------+--------------------+----------+\n",
      "|            features|new_Churn|       rawPrediction|         probability|prediction|\n",
      "+--------------------+---------+--------------------+--------------------+----------+\n",
      "|[1.0,415.0,144.8,...|        0|[3.20708540079934...|[0.96110004447509...|       0.0|\n",
      "|[2.0,415.0,132.1,...|        1|[1.01183195591423...|[0.73337851288136...|       0.0|\n",
      "|[3.0,408.0,139.0,...|        0|[1.24530728838788...|[0.77648647337131...|       0.0|\n",
      "|[3.0,510.0,161.0,...|        0|[1.09786025059777...|[0.74985896635279...|       0.0|\n",
      "|[10.0,415.0,222.2...|        0|[1.99523086253162...|[0.88029543907341...|       0.0|\n",
      "|[11.0,408.0,131.5...|        0|[3.03243841536968...|[0.95401825845598...|       0.0|\n",
      "|[11.0,415.0,190.6...|        0|[2.56912574398327...|[0.92884793847846...|       0.0|\n",
      "|[13.0,415.0,143.1...|        0|[2.61447162429984...|[0.93178716138031...|       0.0|\n",
      "|[13.0,415.0,193.2...|        0|[0.86345833678629...|[0.70338269323832...|       0.0|\n",
      "|[16.0,415.0,110.0...|        0|[3.08087293490580...|[0.95609684122488...|       0.0|\n",
      "|[16.0,510.0,153.2...|        0|[3.58658848368481...|[0.97305357439284...|       0.0|\n",
      "|[17.0,408.0,198.5...|        0|[3.77124102425694...|[0.97749467781273...|       0.0|\n",
      "|[17.0,415.0,161.5...|        0|[2.70552246824804...|[0.93735172675915...|       0.0|\n",
      "|[18.0,408.0,273.6...|        0|[2.16520292556770...|[0.89708091115070...|       0.0|\n",
      "|[19.0,408.0,186.1...|        0|[1.73638483132743...|[0.85022728947027...|       0.0|\n",
      "|[19.0,415.0,201.5...|        0|[2.46245202234496...|[0.92146728770127...|       0.0|\n",
      "|[19.0,510.0,259.4...|        1|[1.27965432165077...|[0.78239092857522...|       0.0|\n",
      "|[20.0,408.0,186.8...|        0|[1.66920922149853...|[0.84147036137312...|       0.0|\n",
      "|[21.0,415.0,146.0...|        0|[4.90290640863514...|[0.99262975220259...|       0.0|\n",
      "|[21.0,415.0,244.7...|        0|[1.88018995069273...|[0.86763294306226...|       0.0|\n",
      "+--------------------+---------+--------------------+--------------------+----------+\n",
      "only showing top 20 rows\n",
      "\n"
     ]
    }
   ],
   "source": [
    "predict_and_labels.predictions.show()"
   ]
  },
  {
   "cell_type": "code",
   "execution_count": 25,
   "metadata": {},
   "outputs": [
    {
     "data": {
      "text/plain": [
       "0.5766823161189358"
      ]
     },
     "execution_count": 25,
     "metadata": {},
     "output_type": "execute_result"
    }
   ],
   "source": [
    "from pyspark.ml.evaluation import (BinaryClassificationEvaluator, MulticlassClassificationEvaluator)\n",
    "bin_eval = BinaryClassificationEvaluator(rawPredictionCol='prediction', labelCol='new_Churn')\n",
    "accuracy = bin_eval.evaluate(predict_and_labels.predictions)\n",
    "accuracy"
   ]
  }
 ],
 "metadata": {
  "kernelspec": {
   "display_name": "Python 3",
   "language": "python",
   "name": "python3"
  },
  "language_info": {
   "codemirror_mode": {
    "name": "ipython",
    "version": 3
   },
   "file_extension": ".py",
   "mimetype": "text/x-python",
   "name": "python",
   "nbconvert_exporter": "python",
   "pygments_lexer": "ipython3",
   "version": "3.5.4"
  }
 },
 "nbformat": 4,
 "nbformat_minor": 2
}

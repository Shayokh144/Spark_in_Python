{
 "cells": [
  {
   "cell_type": "code",
   "execution_count": 1,
   "metadata": {},
   "outputs": [],
   "source": [
    "from pyspark.sql import SparkSession\n",
    "spark = SparkSession.builder.appName('clusterOnSeedData').getOrCreate()\n"
   ]
  },
  {
   "cell_type": "markdown",
   "metadata": {},
   "source": [
    "# First way is the smartest way"
   ]
  },
  {
   "cell_type": "code",
   "execution_count": 2,
   "metadata": {},
   "outputs": [
    {
     "name": "stdout",
     "output_type": "stream",
     "text": [
      "+-----+-----+------+-----+-----+-----+-----+---+\n",
      "|  _c0|  _c1|   _c2|  _c3|  _c4|  _c5|  _c6|_c7|\n",
      "+-----+-----+------+-----+-----+-----+-----+---+\n",
      "|15.26|14.84| 0.871|5.763|3.312|2.221| 5.22|1.0|\n",
      "|14.88|14.57|0.8811|5.554|3.333|1.018|4.956|1.0|\n",
      "|14.29|14.09| 0.905|5.291|3.337|2.699|4.825|1.0|\n",
      "|13.84|13.94|0.8955|5.324|3.379|2.259|4.805|1.0|\n",
      "|16.14|14.99|0.9034|5.658|3.562|1.355|5.175|1.0|\n",
      "|14.38|14.21|0.8951|5.386|3.312|2.462|4.956|1.0|\n",
      "|14.69|14.49|0.8799|5.563|3.259|3.586|5.219|1.0|\n",
      "|14.11| 14.1|0.8911| 5.42|3.302|  2.7| null|5.0|\n",
      "|16.63|15.46|0.8747|6.053|3.465| 2.04|5.877|1.0|\n",
      "|16.44|15.25| 0.888|5.884|3.505|1.969|5.533|1.0|\n",
      "|15.26|14.85|0.8696|5.714|3.242|4.543|5.314|1.0|\n",
      "|14.03|14.16|0.8796|5.438|3.201|1.717|5.001|1.0|\n",
      "|13.89|14.02| 0.888|5.439|3.199|3.986|4.738|1.0|\n",
      "|13.78|14.06|0.8759|5.479|3.156|3.136|4.872|1.0|\n",
      "|13.74|14.05|0.8744|5.482|3.114|2.932|4.825|1.0|\n",
      "|14.59|14.28|0.8993|5.351|3.333|4.185|4.781|1.0|\n",
      "|13.99|13.83|0.9183|5.119|3.383|5.234|4.781|1.0|\n",
      "|15.69|14.75|0.9058|5.527|3.514|1.599|5.046|1.0|\n",
      "| 14.7|14.21|0.9153|5.205|3.466|1.767|4.649|1.0|\n",
      "|12.72|13.57|0.8686|5.226|3.049|4.102|4.914|1.0|\n",
      "+-----+-----+------+-----+-----+-----+-----+---+\n",
      "only showing top 20 rows\n",
      "\n"
     ]
    }
   ],
   "source": [
    "# first way\n",
    "SeeedData = spark.read.csv('seed_data.txt', inferSchema=True,sep='\\t')\n",
    "SeeedData.show()"
   ]
  },
  {
   "cell_type": "markdown",
   "metadata": {},
   "source": [
    "## [Reading text files as DataFrame(DF)](https://spark.apache.org/docs/2.1.0/sql-programming-guide.html#inferring-the-schema-using-reflection)"
   ]
  },
  {
   "cell_type": "code",
   "execution_count": 3,
   "metadata": {},
   "outputs": [],
   "source": [
    "# second way\n",
    "from pyspark.sql import Row\n",
    "\n",
    "sc = spark.sparkContext\n",
    "\n",
    "# Load a text file and convert each line to a Row.\n",
    "lines = sc.textFile(\"seed_data.txt\")\n",
    "parts = lines.map(lambda l: l.split(\"\\t\"))\n",
    "rows = parts.map(lambda p: Row(area=(p[0]), perimeter=(p[1]), compactness=(p[2]), \n",
    "                                 length_of_kernel=(p[3]), width_of_kernel=(p[4]),\n",
    "                                 asymmetry_coefficient=(p[5]), \n",
    "                                 length_of_kernel_groove=(p[6]), label=(p[7]) ))\n",
    "\n",
    "# Create DataFrame and Infer the schema \n",
    "finalDF = spark.createDataFrame(rows)\n",
    "#finalDF.createOrReplaceTempView(\"rows\")\n"
   ]
  },
  {
   "cell_type": "code",
   "execution_count": 4,
   "metadata": {},
   "outputs": [
    {
     "name": "stdout",
     "output_type": "stream",
     "text": [
      "root\n",
      " |-- area: string (nullable = true)\n",
      " |-- asymmetry_coefficient: string (nullable = true)\n",
      " |-- compactness: string (nullable = true)\n",
      " |-- label: string (nullable = true)\n",
      " |-- length_of_kernel: string (nullable = true)\n",
      " |-- length_of_kernel_groove: string (nullable = true)\n",
      " |-- perimeter: string (nullable = true)\n",
      " |-- width_of_kernel: string (nullable = true)\n",
      "\n"
     ]
    }
   ],
   "source": [
    "finalDF.printSchema()"
   ]
  },
  {
   "cell_type": "code",
   "execution_count": 5,
   "metadata": {},
   "outputs": [
    {
     "data": {
      "text/plain": [
       "[Row(area='15.26', asymmetry_coefficient='2.221', compactness='0.871', label='1', length_of_kernel='5.763', length_of_kernel_groove='5.22', perimeter='14.84', width_of_kernel='3.312')]"
      ]
     },
     "execution_count": 5,
     "metadata": {},
     "output_type": "execute_result"
    }
   ],
   "source": [
    "finalDF.head(1)\n",
    "#finalDF.show()"
   ]
  },
  {
   "cell_type": "markdown",
   "metadata": {},
   "source": [
    "## For unsupervised learning we should drop label column"
   ]
  },
  {
   "cell_type": "code",
   "execution_count": 6,
   "metadata": {},
   "outputs": [],
   "source": [
    "finalDF = finalDF.drop('label') "
   ]
  },
  {
   "cell_type": "code",
   "execution_count": 7,
   "metadata": {},
   "outputs": [
    {
     "data": {
      "text/plain": [
       "['area',\n",
       " 'asymmetry_coefficient',\n",
       " 'compactness',\n",
       " 'length_of_kernel',\n",
       " 'length_of_kernel_groove',\n",
       " 'perimeter',\n",
       " 'width_of_kernel']"
      ]
     },
     "execution_count": 7,
     "metadata": {},
     "output_type": "execute_result"
    }
   ],
   "source": [
    "finalDF.columns"
   ]
  },
  {
   "cell_type": "markdown",
   "metadata": {},
   "source": [
    "## convert string to double"
   ]
  },
  {
   "cell_type": "code",
   "execution_count": 8,
   "metadata": {},
   "outputs": [
    {
     "name": "stdout",
     "output_type": "stream",
     "text": [
      "root\n",
      " |-- area: double (nullable = true)\n",
      " |-- asymmetry_coefficient: double (nullable = true)\n",
      " |-- compactness: double (nullable = true)\n",
      " |-- length_of_kernel: double (nullable = true)\n",
      " |-- length_of_kernel_groove: double (nullable = true)\n",
      " |-- perimeter: double (nullable = true)\n",
      " |-- width_of_kernel: double (nullable = true)\n",
      "\n"
     ]
    }
   ],
   "source": [
    "\n",
    "from pyspark.sql.types import DoubleType\n",
    "finalDF = finalDF.withColumn(\"area\", finalDF[\"area\"].cast(DoubleType()))\\\n",
    "                    .withColumn(\"length_of_kernel\", finalDF[\"length_of_kernel\"].cast(DoubleType()))\\\n",
    "                    .withColumn(\"asymmetry_coefficient\", finalDF[\"asymmetry_coefficient\"].cast(DoubleType()))\\\n",
    "                    .withColumn(\"compactness\", finalDF[\"compactness\"].cast(DoubleType()))\\\n",
    "                    .withColumn(\"length_of_kernel_groove\", finalDF[\"length_of_kernel_groove\"].cast(DoubleType()))\\\n",
    "                    .withColumn(\"width_of_kernel\", finalDF[\"width_of_kernel\"].cast(DoubleType()))\\\n",
    "                    .withColumn(\"perimeter\", finalDF[\"perimeter\"].cast(DoubleType()))\n",
    "finalDF.printSchema()\n"
   ]
  },
  {
   "cell_type": "code",
   "execution_count": 9,
   "metadata": {},
   "outputs": [
    {
     "name": "stdout",
     "output_type": "stream",
     "text": [
      "+-------+-----------------------+\n",
      "|summary|length_of_kernel_groove|\n",
      "+-------+-----------------------+\n",
      "|  count|                    206|\n",
      "|   mean|     5.4075291262135945|\n",
      "| stddev|     0.5323300430722293|\n",
      "|    min|                  3.485|\n",
      "|    max|                  6.735|\n",
      "+-------+-----------------------+\n",
      "\n"
     ]
    }
   ],
   "source": [
    "finalDF.describe(\"length_of_kernel_groove\").show()"
   ]
  },
  {
   "cell_type": "markdown",
   "metadata": {},
   "source": [
    "## missing value here"
   ]
  },
  {
   "cell_type": "code",
   "execution_count": 10,
   "metadata": {},
   "outputs": [],
   "source": [
    "finalDF = finalDF.na.fill(0)"
   ]
  },
  {
   "cell_type": "code",
   "execution_count": 11,
   "metadata": {},
   "outputs": [],
   "source": [
    "from pyspark.ml.clustering import KMeans\n",
    "from pyspark.ml.feature import VectorAssembler"
   ]
  },
  {
   "cell_type": "code",
   "execution_count": 12,
   "metadata": {},
   "outputs": [],
   "source": [
    "assmbler = VectorAssembler(inputCols=finalDF.columns,\n",
    "                           outputCol='features')\n",
    "final_data = assmbler.transform(finalDF)"
   ]
  },
  {
   "cell_type": "code",
   "execution_count": 13,
   "metadata": {},
   "outputs": [
    {
     "name": "stdout",
     "output_type": "stream",
     "text": [
      "root\n",
      " |-- area: double (nullable = false)\n",
      " |-- asymmetry_coefficient: double (nullable = false)\n",
      " |-- compactness: double (nullable = false)\n",
      " |-- length_of_kernel: double (nullable = false)\n",
      " |-- length_of_kernel_groove: double (nullable = false)\n",
      " |-- perimeter: double (nullable = false)\n",
      " |-- width_of_kernel: double (nullable = false)\n",
      " |-- features: vector (nullable = true)\n",
      "\n"
     ]
    }
   ],
   "source": [
    "final_data.printSchema()"
   ]
  },
  {
   "cell_type": "code",
   "execution_count": 14,
   "metadata": {},
   "outputs": [
    {
     "name": "stdout",
     "output_type": "stream",
     "text": [
      "+-----+---------------------+-----------+----------------+-----------------------+---------+---------------+--------------------+\n",
      "| area|asymmetry_coefficient|compactness|length_of_kernel|length_of_kernel_groove|perimeter|width_of_kernel|            features|\n",
      "+-----+---------------------+-----------+----------------+-----------------------+---------+---------------+--------------------+\n",
      "|15.26|                2.221|      0.871|           5.763|                   5.22|    14.84|          3.312|[15.26,2.221,0.87...|\n",
      "|14.88|                1.018|     0.8811|           5.554|                  4.956|    14.57|          3.333|[14.88,1.018,0.88...|\n",
      "|14.29|                2.699|      0.905|           5.291|                  4.825|    14.09|          3.337|[14.29,2.699,0.90...|\n",
      "|13.84|                2.259|     0.8955|           5.324|                  4.805|    13.94|          3.379|[13.84,2.259,0.89...|\n",
      "|16.14|                1.355|     0.9034|           5.658|                  5.175|    14.99|          3.562|[16.14,1.355,0.90...|\n",
      "|14.38|                2.462|     0.8951|           5.386|                  4.956|    14.21|          3.312|[14.38,2.462,0.89...|\n",
      "|14.69|                3.586|     0.8799|           5.563|                  5.219|    14.49|          3.259|[14.69,3.586,0.87...|\n",
      "|14.11|                  2.7|     0.8911|            5.42|                    0.0|     14.1|          3.302|[14.11,2.7,0.8911...|\n",
      "|16.63|                 2.04|     0.8747|           6.053|                  5.877|    15.46|          3.465|[16.63,2.04,0.874...|\n",
      "|16.44|                1.969|      0.888|           5.884|                  5.533|    15.25|          3.505|[16.44,1.969,0.88...|\n",
      "|15.26|                4.543|     0.8696|           5.714|                  5.314|    14.85|          3.242|[15.26,4.543,0.86...|\n",
      "|14.03|                1.717|     0.8796|           5.438|                  5.001|    14.16|          3.201|[14.03,1.717,0.87...|\n",
      "|13.89|                3.986|      0.888|           5.439|                  4.738|    14.02|          3.199|[13.89,3.986,0.88...|\n",
      "|13.78|                3.136|     0.8759|           5.479|                  4.872|    14.06|          3.156|[13.78,3.136,0.87...|\n",
      "|13.74|                2.932|     0.8744|           5.482|                  4.825|    14.05|          3.114|[13.74,2.932,0.87...|\n",
      "|14.59|                4.185|     0.8993|           5.351|                  4.781|    14.28|          3.333|[14.59,4.185,0.89...|\n",
      "|13.99|                5.234|     0.9183|           5.119|                  4.781|    13.83|          3.383|[13.99,5.234,0.91...|\n",
      "|15.69|                1.599|     0.9058|           5.527|                  5.046|    14.75|          3.514|[15.69,1.599,0.90...|\n",
      "| 14.7|                1.767|     0.9153|           5.205|                  4.649|    14.21|          3.466|[14.7,1.767,0.915...|\n",
      "|12.72|                4.102|     0.8686|           5.226|                  4.914|    13.57|          3.049|[12.72,4.102,0.86...|\n",
      "+-----+---------------------+-----------+----------------+-----------------------+---------+---------------+--------------------+\n",
      "only showing top 20 rows\n",
      "\n"
     ]
    }
   ],
   "source": [
    "final_data.show()"
   ]
  },
  {
   "cell_type": "code",
   "execution_count": 15,
   "metadata": {},
   "outputs": [],
   "source": [
    "from pyspark.ml.feature import StandardScaler\n",
    "scaler = StandardScaler(inputCol='features', outputCol='scaledFeatures')"
   ]
  },
  {
   "cell_type": "code",
   "execution_count": 16,
   "metadata": {},
   "outputs": [],
   "source": [
    "scaler_model = scaler.fit(final_data)\n",
    "final_data = scaler_model.transform(final_data)"
   ]
  },
  {
   "cell_type": "code",
   "execution_count": 17,
   "metadata": {},
   "outputs": [],
   "source": [
    "kmeans = KMeans(featuresCol='scaledFeatures',k=3)\n",
    "model = kmeans.fit(final_data)"
   ]
  },
  {
   "cell_type": "code",
   "execution_count": 18,
   "metadata": {},
   "outputs": [
    {
     "name": "stdout",
     "output_type": "stream",
     "text": [
      "WSSSE\n",
      "604.166223200647\n"
     ]
    }
   ],
   "source": [
    "print('WSSSE')\n",
    "print(model.computeCost(final_data))"
   ]
  },
  {
   "cell_type": "code",
   "execution_count": 19,
   "metadata": {},
   "outputs": [],
   "source": [
    "centers = model.clusterCenters()"
   ]
  },
  {
   "cell_type": "code",
   "execution_count": 20,
   "metadata": {},
   "outputs": [
    {
     "data": {
      "text/plain": [
       "[array([  6.18310449,   2.28105979,   8.32394523,   8.47151597,\n",
       "          6.50917526,  12.23444708,   7.65650551]),\n",
       " array([  4.41101231,   2.59437444,   8.12685015,   7.40409018,\n",
       "          5.40896517,  10.45227519,   6.32424087]),\n",
       " array([  4.39678862,   2.48030443,   0.        ,   1.18344575,\n",
       "          5.03687634,  10.46485344,   7.29055634])]"
      ]
     },
     "execution_count": 20,
     "metadata": {},
     "output_type": "execute_result"
    }
   ],
   "source": [
    "centers"
   ]
  },
  {
   "cell_type": "code",
   "execution_count": 21,
   "metadata": {},
   "outputs": [
    {
     "name": "stdout",
     "output_type": "stream",
     "text": [
      "+-----+---------------------+-----------+----------------+-----------------------+---------+---------------+--------------------+--------------------+----------+\n",
      "| area|asymmetry_coefficient|compactness|length_of_kernel|length_of_kernel_groove|perimeter|width_of_kernel|            features|      scaledFeatures|prediction|\n",
      "+-----+---------------------+-----------+----------------+-----------------------+---------+---------------+--------------------+--------------------+----------+\n",
      "|15.26|                2.221|      0.871|           5.763|                   5.22|    14.84|          3.312|[15.26,2.221,0.87...|[5.24452795332029...|         0|\n",
      "|14.88|                1.018|     0.8811|           5.554|                  4.956|    14.57|          3.333|[14.88,1.018,0.88...|[5.11393027165176...|         1|\n",
      "|14.29|                2.699|      0.905|           5.291|                  4.825|    14.09|          3.337|[14.29,2.699,0.90...|[4.91116018695589...|         1|\n",
      "|13.84|                2.259|     0.8955|           5.324|                  4.805|    13.94|          3.379|[13.84,2.259,0.89...|[4.75650503761158...|         1|\n",
      "|16.14|                1.355|     0.9034|           5.658|                  5.175|    14.99|          3.562|[16.14,1.355,0.90...|[5.54696468981582...|         0|\n",
      "|14.38|                2.462|     0.8951|           5.386|                  4.956|    14.21|          3.312|[14.38,2.462,0.89...|[4.94209121682475...|         1|\n",
      "|14.69|                3.586|     0.8799|           5.563|                  5.219|    14.49|          3.259|[14.69,3.586,0.87...|[5.04863143081750...|         1|\n",
      "|14.11|                  2.7|     0.8911|            5.42|                    0.0|     14.1|          3.302|[14.11,2.7,0.8911...|[4.84929812721817...|         1|\n",
      "|16.63|                 2.04|     0.8747|           6.053|                  5.877|    15.46|          3.465|[16.63,2.04,0.874...|[5.71536696354629...|         0|\n",
      "|16.44|                1.969|      0.888|           5.884|                  5.533|    15.25|          3.505|[16.44,1.969,0.88...|[5.65006812271203...|         0|\n",
      "|15.26|                4.543|     0.8696|           5.714|                  5.314|    14.85|          3.242|[15.26,4.543,0.86...|[5.24452795332029...|         1|\n",
      "|14.03|                1.717|     0.8796|           5.438|                  5.001|    14.16|          3.201|[14.03,1.717,0.87...|[4.82180387844585...|         1|\n",
      "|13.89|                3.986|      0.888|           5.439|                  4.738|    14.02|          3.199|[13.89,3.986,0.88...|[4.77368894309428...|         1|\n",
      "|13.78|                3.136|     0.8759|           5.479|                  4.872|    14.06|          3.156|[13.78,3.136,0.87...|[4.73588435103234...|         1|\n",
      "|13.74|                2.932|     0.8744|           5.482|                  4.825|    14.05|          3.114|[13.74,2.932,0.87...|[4.72213722664618...|         1|\n",
      "|14.59|                4.185|     0.8993|           5.351|                  4.781|    14.28|          3.333|[14.59,4.185,0.89...|[5.01426361985209...|         1|\n",
      "|13.99|                5.234|     0.9183|           5.119|                  4.781|    13.83|          3.383|[13.99,5.234,0.91...|[4.80805675405969...|         1|\n",
      "|15.69|                1.599|     0.9058|           5.527|                  5.046|    14.75|          3.514|[15.69,1.599,0.90...|[5.39230954047151...|         0|\n",
      "| 14.7|                1.767|     0.9153|           5.205|                  4.649|    14.21|          3.466|[14.7,1.767,0.915...|[5.05206821191404...|         1|\n",
      "|12.72|                4.102|     0.8686|           5.226|                  4.914|    13.57|          3.049|[12.72,4.102,0.86...|[4.37158555479908...|         1|\n",
      "+-----+---------------------+-----------+----------------+-----------------------+---------+---------------+--------------------+--------------------+----------+\n",
      "only showing top 20 rows\n",
      "\n"
     ]
    }
   ],
   "source": [
    "model.transform(final_data).show()"
   ]
  },
  {
   "cell_type": "code",
   "execution_count": 22,
   "metadata": {},
   "outputs": [
    {
     "name": "stdout",
     "output_type": "stream",
     "text": [
      "root\n",
      " |-- area: double (nullable = false)\n",
      " |-- asymmetry_coefficient: double (nullable = false)\n",
      " |-- compactness: double (nullable = false)\n",
      " |-- length_of_kernel: double (nullable = false)\n",
      " |-- length_of_kernel_groove: double (nullable = false)\n",
      " |-- perimeter: double (nullable = false)\n",
      " |-- width_of_kernel: double (nullable = false)\n",
      " |-- features: vector (nullable = true)\n",
      " |-- scaledFeatures: vector (nullable = true)\n",
      " |-- prediction: integer (nullable = true)\n",
      "\n"
     ]
    }
   ],
   "source": [
    "result = model.transform(final_data)\n",
    "result.printSchema()"
   ]
  },
  {
   "cell_type": "code",
   "execution_count": 23,
   "metadata": {},
   "outputs": [
    {
     "name": "stdout",
     "output_type": "stream",
     "text": [
      "+----------+\n",
      "|prediction|\n",
      "+----------+\n",
      "|         0|\n",
      "|         1|\n",
      "|         1|\n",
      "|         1|\n",
      "|         0|\n",
      "|         1|\n",
      "|         1|\n",
      "|         1|\n",
      "|         0|\n",
      "|         0|\n",
      "|         1|\n",
      "|         1|\n",
      "|         1|\n",
      "|         1|\n",
      "|         1|\n",
      "|         1|\n",
      "|         1|\n",
      "|         0|\n",
      "|         1|\n",
      "|         1|\n",
      "+----------+\n",
      "only showing top 20 rows\n",
      "\n"
     ]
    }
   ],
   "source": [
    "result.select('prediction').show()"
   ]
  },
  {
   "cell_type": "code",
   "execution_count": null,
   "metadata": {},
   "outputs": [],
   "source": []
  }
 ],
 "metadata": {
  "kernelspec": {
   "display_name": "Python 3",
   "language": "python",
   "name": "python3"
  },
  "language_info": {
   "codemirror_mode": {
    "name": "ipython",
    "version": 3
   },
   "file_extension": ".py",
   "mimetype": "text/x-python",
   "name": "python",
   "nbconvert_exporter": "python",
   "pygments_lexer": "ipython3",
   "version": "3.5.4"
  }
 },
 "nbformat": 4,
 "nbformat_minor": 2
}

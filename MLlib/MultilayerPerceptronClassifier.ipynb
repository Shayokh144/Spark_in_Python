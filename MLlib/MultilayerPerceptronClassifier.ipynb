{
 "cells": [
  {
   "cell_type": "markdown",
   "metadata": {},
   "source": [
    "## [Multilayer Perceptron Classifier](https://spark.apache.org/docs/2.1.0/ml-classification-regression.html#multilayer-perceptron-classifier)"
   ]
  },
  {
   "cell_type": "code",
   "execution_count": 1,
   "metadata": {},
   "outputs": [],
   "source": [
    "from pyspark.sql import SparkSession # to load dataframe we need this\n",
    "spark = SparkSession.builder.appName('MultilayerPerceptronClassifier').getOrCreate()\n",
    "data = spark.read.format(\"libsvm\").load(\"sample_multiclass_classification_data.txt\")\n"
   ]
  },
  {
   "cell_type": "code",
   "execution_count": 2,
   "metadata": {},
   "outputs": [
    {
     "data": {
      "text/plain": [
       "[Row(label=1.0, features=SparseVector(4, {0: -0.2222, 1: 0.5, 2: -0.7627, 3: -0.8333}))]"
      ]
     },
     "execution_count": 2,
     "metadata": {},
     "output_type": "execute_result"
    }
   ],
   "source": [
    "data.head(1)"
   ]
  },
  {
   "cell_type": "code",
   "execution_count": 3,
   "metadata": {},
   "outputs": [],
   "source": [
    "train, test = data.randomSplit([0.6, 0.4], 1234)\n"
   ]
  },
  {
   "cell_type": "code",
   "execution_count": 4,
   "metadata": {},
   "outputs": [
    {
     "data": {
      "text/plain": [
       "99"
      ]
     },
     "execution_count": 4,
     "metadata": {},
     "output_type": "execute_result"
    }
   ],
   "source": [
    "train.count()"
   ]
  },
  {
   "cell_type": "code",
   "execution_count": 5,
   "metadata": {},
   "outputs": [],
   "source": [
    "# specify layers for the neural network:\n",
    "# input layer of size 4 (features), two intermediate of size 5 and 4\n",
    "# and output of size 3 (classes)\n",
    "layers = [4, 5, 4, 3]"
   ]
  },
  {
   "cell_type": "code",
   "execution_count": 6,
   "metadata": {},
   "outputs": [],
   "source": [
    "from pyspark.ml.classification import MultilayerPerceptronClassifier\n",
    "# create the trainer and set its parameters\n",
    "trainer = MultilayerPerceptronClassifier(maxIter=100, layers=layers, blockSize=128, seed=1234)\n",
    "# train the model\n",
    "model = trainer.fit(train)"
   ]
  },
  {
   "cell_type": "code",
   "execution_count": 7,
   "metadata": {},
   "outputs": [
    {
     "name": "stdout",
     "output_type": "stream",
     "text": [
      "Test set accuracy = 0.9019607843137255\n"
     ]
    }
   ],
   "source": [
    "from pyspark.ml.evaluation import MulticlassClassificationEvaluator\n",
    "# compute accuracy on the test set\n",
    "result = model.transform(test)\n",
    "predictionAndLabels = result.select(\"prediction\", \"label\")\n",
    "evaluator = MulticlassClassificationEvaluator(metricName=\"accuracy\")\n",
    "print(\"Test set accuracy = \" + str(evaluator.evaluate(predictionAndLabels)))"
   ]
  },
  {
   "cell_type": "markdown",
   "metadata": {},
   "source": [
    "## Realistic data"
   ]
  },
  {
   "cell_type": "code",
   "execution_count": 8,
   "metadata": {},
   "outputs": [],
   "source": [
    "data = spark.read.csv('ChurnData.txt', inferSchema=True, header=True)"
   ]
  },
  {
   "cell_type": "code",
   "execution_count": 9,
   "metadata": {},
   "outputs": [
    {
     "name": "stdout",
     "output_type": "stream",
     "text": [
      "number of columns =  21\n"
     ]
    },
    {
     "data": {
      "text/plain": [
       "['State',\n",
       " 'Account Length',\n",
       " 'Area Code',\n",
       " 'Phone',\n",
       " \"Int'l Plan\",\n",
       " 'VMail Plan',\n",
       " 'VMail Message',\n",
       " 'Day Mins',\n",
       " 'Day Calls',\n",
       " 'Day Charge',\n",
       " 'Eve Mins',\n",
       " 'Eve Calls',\n",
       " 'Eve Charge',\n",
       " 'Night Mins',\n",
       " 'Night Calls',\n",
       " 'Night Charge',\n",
       " 'Intl Mins',\n",
       " 'Intl Calls',\n",
       " 'Intl Charge',\n",
       " 'CustServ Calls',\n",
       " 'Churn?']"
      ]
     },
     "execution_count": 9,
     "metadata": {},
     "output_type": "execute_result"
    }
   ],
   "source": [
    "print('number of columns = ',len(data.columns))# how many columns\n",
    "data.columns    # list of names of the column "
   ]
  },
  {
   "cell_type": "code",
   "execution_count": 10,
   "metadata": {},
   "outputs": [
    {
     "name": "stdout",
     "output_type": "stream",
     "text": [
      "root\n",
      " |-- State: string (nullable = true)\n",
      " |-- Account Length: integer (nullable = true)\n",
      " |-- Area Code: integer (nullable = true)\n",
      " |-- Phone: string (nullable = true)\n",
      " |-- IntlPlan: string (nullable = true)\n",
      " |-- VMail Plan: string (nullable = true)\n",
      " |-- VMail Message: integer (nullable = true)\n",
      " |-- Day Mins: double (nullable = true)\n",
      " |-- Day Calls: integer (nullable = true)\n",
      " |-- Day Charge: double (nullable = true)\n",
      " |-- Eve Mins: double (nullable = true)\n",
      " |-- Eve Calls: integer (nullable = true)\n",
      " |-- Eve Charge: double (nullable = true)\n",
      " |-- Night Mins: double (nullable = true)\n",
      " |-- Night Calls: integer (nullable = true)\n",
      " |-- Night Charge: double (nullable = true)\n",
      " |-- Intl Mins: double (nullable = true)\n",
      " |-- Intl Calls: integer (nullable = true)\n",
      " |-- Intl Charge: double (nullable = true)\n",
      " |-- CustServ Calls: integer (nullable = true)\n",
      " |-- Churn?: string (nullable = true)\n",
      "\n"
     ]
    }
   ],
   "source": [
    "data = data.withColumnRenamed(\"Int'l Plan\", \"IntlPlan\")\n",
    "data.printSchema()"
   ]
  },
  {
   "cell_type": "code",
   "execution_count": 11,
   "metadata": {},
   "outputs": [
    {
     "name": "stdout",
     "output_type": "stream",
     "text": [
      "root\n",
      " |-- State: string (nullable = true)\n",
      " |-- Account Length: integer (nullable = true)\n",
      " |-- Area Code: integer (nullable = true)\n",
      " |-- Phone: string (nullable = true)\n",
      " |-- IntlPlan: string (nullable = true)\n",
      " |-- VMail Plan: string (nullable = true)\n",
      " |-- VMail Message: integer (nullable = true)\n",
      " |-- Day Mins: double (nullable = true)\n",
      " |-- Day Calls: integer (nullable = true)\n",
      " |-- Day Charge: double (nullable = true)\n",
      " |-- Eve Mins: double (nullable = true)\n",
      " |-- Eve Calls: integer (nullable = true)\n",
      " |-- Eve Charge: double (nullable = true)\n",
      " |-- Night Mins: double (nullable = true)\n",
      " |-- Night Calls: integer (nullable = true)\n",
      " |-- Night Charge: double (nullable = true)\n",
      " |-- Intl Mins: double (nullable = true)\n",
      " |-- Intl Calls: integer (nullable = true)\n",
      " |-- Intl Charge: double (nullable = true)\n",
      " |-- CustServ Calls: integer (nullable = true)\n",
      " |-- Churn?: string (nullable = true)\n",
      " |-- label: integer (nullable = true)\n",
      "\n"
     ]
    }
   ],
   "source": [
    "from pyspark.sql.functions import col, udf\n",
    "from pyspark.sql.types import IntegerType\n",
    "func =  udf (lambda x: 0 if x=='False.' else 1, IntegerType())\n",
    "data = data.withColumn('label', func(col('Churn?')))\n",
    "\n",
    "data.printSchema()"
   ]
  },
  {
   "cell_type": "code",
   "execution_count": 12,
   "metadata": {},
   "outputs": [
    {
     "name": "stdout",
     "output_type": "stream",
     "text": [
      "root\n",
      " |-- State: string (nullable = true)\n",
      " |-- Account Length: integer (nullable = true)\n",
      " |-- Area Code: integer (nullable = true)\n",
      " |-- Phone: string (nullable = true)\n",
      " |-- IntlPlan: string (nullable = true)\n",
      " |-- VMail Plan: string (nullable = true)\n",
      " |-- VMail Message: integer (nullable = true)\n",
      " |-- Day Mins: double (nullable = true)\n",
      " |-- Day Calls: integer (nullable = true)\n",
      " |-- Day Charge: double (nullable = true)\n",
      " |-- Eve Mins: double (nullable = true)\n",
      " |-- Eve Calls: integer (nullable = true)\n",
      " |-- Eve Charge: double (nullable = true)\n",
      " |-- Night Mins: double (nullable = true)\n",
      " |-- Night Calls: integer (nullable = true)\n",
      " |-- Night Charge: double (nullable = true)\n",
      " |-- Intl Mins: double (nullable = true)\n",
      " |-- Intl Calls: integer (nullable = true)\n",
      " |-- Intl Charge: double (nullable = true)\n",
      " |-- CustServ Calls: integer (nullable = true)\n",
      " |-- Churn?: string (nullable = true)\n",
      " |-- label: integer (nullable = true)\n",
      " |-- new_IntlPlan: integer (nullable = true)\n",
      "\n"
     ]
    }
   ],
   "source": [
    "func =  udf (lambda x: 0 if x=='no' else 1, IntegerType())\n",
    "data = data.withColumn('new_IntlPlan', func(col('IntlPlan')))\n",
    "\n",
    "data.printSchema()"
   ]
  },
  {
   "cell_type": "code",
   "execution_count": 13,
   "metadata": {},
   "outputs": [],
   "source": [
    "data = data.drop('Churn?','IntlPlan') "
   ]
  },
  {
   "cell_type": "code",
   "execution_count": 14,
   "metadata": {},
   "outputs": [
    {
     "name": "stdout",
     "output_type": "stream",
     "text": [
      "root\n",
      " |-- State: string (nullable = true)\n",
      " |-- Account Length: integer (nullable = true)\n",
      " |-- Area Code: integer (nullable = true)\n",
      " |-- Phone: string (nullable = true)\n",
      " |-- VMail Message: integer (nullable = true)\n",
      " |-- Day Mins: double (nullable = true)\n",
      " |-- Day Calls: integer (nullable = true)\n",
      " |-- Day Charge: double (nullable = true)\n",
      " |-- Eve Mins: double (nullable = true)\n",
      " |-- Eve Calls: integer (nullable = true)\n",
      " |-- Eve Charge: double (nullable = true)\n",
      " |-- Night Mins: double (nullable = true)\n",
      " |-- Night Calls: integer (nullable = true)\n",
      " |-- Night Charge: double (nullable = true)\n",
      " |-- Intl Mins: double (nullable = true)\n",
      " |-- Intl Calls: integer (nullable = true)\n",
      " |-- Intl Charge: double (nullable = true)\n",
      " |-- CustServ Calls: integer (nullable = true)\n",
      " |-- label: integer (nullable = true)\n",
      " |-- new_IntlPlan: integer (nullable = true)\n",
      " |-- new_VMailPlan: integer (nullable = true)\n",
      "\n"
     ]
    }
   ],
   "source": [
    "func =  udf (lambda x: 0 if x=='no' else 1, IntegerType())\n",
    "data = data.withColumn('new_VMailPlan', func(col('VMail Plan')))\n",
    "data = data.drop('VMail Plan') \n",
    "data.printSchema()"
   ]
  },
  {
   "cell_type": "code",
   "execution_count": 15,
   "metadata": {},
   "outputs": [
    {
     "data": {
      "text/plain": [
       "['State',\n",
       " 'Account_Length',\n",
       " 'Area_Code',\n",
       " 'Phone',\n",
       " 'VMail_Message',\n",
       " 'Day_Mins',\n",
       " 'Day_Calls',\n",
       " 'Day_Charge',\n",
       " 'Eve_Mins',\n",
       " 'Eve_Calls',\n",
       " 'Eve_Charge',\n",
       " 'Night_Mins',\n",
       " 'Night_Calls',\n",
       " 'Night_Charge',\n",
       " 'Intl_Mins',\n",
       " 'Intl_Calls',\n",
       " 'Intl_Charge',\n",
       " 'CustServ_Calls',\n",
       " 'label',\n",
       " 'new_IntlPlan',\n",
       " 'new_VMailPlan']"
      ]
     },
     "execution_count": 15,
     "metadata": {},
     "output_type": "execute_result"
    }
   ],
   "source": [
    "import re\n",
    "data = data.toDF(*(re.sub(r'[\\.\\s]+', '_', c) for c in data.columns))\n",
    "data.columns"
   ]
  },
  {
   "cell_type": "code",
   "execution_count": 16,
   "metadata": {},
   "outputs": [],
   "source": [
    "from pyspark.ml.linalg import Vectors\n",
    "from pyspark.ml.feature import VectorAssembler\n",
    "assembler = VectorAssembler(inputCols =['Account_Length','Area_Code','Day_Mins','Day_Calls','Day_Charge','Eve_Mins',\n",
    "                                      'Eve_Calls','Eve_Charge','Night_Mins','Night_Calls','Night_Charge',\n",
    "                                      'Intl_Mins','Intl_Calls','Intl_Charge','CustServ_Calls','new_IntlPlan','new_VMailPlan'],\n",
    "                            outputCol = 'features')\n",
    "# VectorAssembler convert all the inputCols to a dense vector fro each row and output it as 'features'\n",
    "# we have to do this to satisfy the format which spark mllib deals with"
   ]
  },
  {
   "cell_type": "code",
   "execution_count": 17,
   "metadata": {},
   "outputs": [
    {
     "data": {
      "text/plain": [
       "[Row(State='KS', Account_Length=128, Area_Code=415, Phone='382-4657', VMail_Message=25, Day_Mins=265.1, Day_Calls=110, Day_Charge=45.07, Eve_Mins=197.4, Eve_Calls=99, Eve_Charge=16.78, Night_Mins=244.7, Night_Calls=91, Night_Charge=11.01, Intl_Mins=10.0, Intl_Calls=3, Intl_Charge=2.7, CustServ_Calls=1, label=0, new_IntlPlan=0, new_VMailPlan=1, features=DenseVector([128.0, 415.0, 265.1, 110.0, 45.07, 197.4, 99.0, 16.78, 244.7, 91.0, 11.01, 10.0, 3.0, 2.7, 1.0, 0.0, 1.0]))]"
      ]
     },
     "execution_count": 17,
     "metadata": {},
     "output_type": "execute_result"
    }
   ],
   "source": [
    "dataFromAssembler = assembler.transform(data)\n",
    "dataFromAssembler.head(1)"
   ]
  },
  {
   "cell_type": "code",
   "execution_count": 18,
   "metadata": {},
   "outputs": [
    {
     "data": {
      "text/plain": [
       "[Row(features=DenseVector([128.0, 415.0, 265.1, 110.0, 45.07, 197.4, 99.0, 16.78, 244.7, 91.0, 11.01, 10.0, 3.0, 2.7, 1.0, 0.0, 1.0]), label=0)]"
      ]
     },
     "execution_count": 18,
     "metadata": {},
     "output_type": "execute_result"
    }
   ],
   "source": [
    "final_data = dataFromAssembler.select('features','label')\n",
    "final_data.head(1)"
   ]
  },
  {
   "cell_type": "code",
   "execution_count": 19,
   "metadata": {},
   "outputs": [],
   "source": [
    "train_data, test_data = final_data.randomSplit([0.7,0.3])"
   ]
  },
  {
   "cell_type": "code",
   "execution_count": 23,
   "metadata": {},
   "outputs": [],
   "source": [
    "layers = [17, 9, 5,5, 2]\n",
    "from pyspark.ml.classification import MultilayerPerceptronClassifier\n",
    "# create the trainer and set its parameters\n",
    "trainer = MultilayerPerceptronClassifier(maxIter=100, layers=layers, blockSize=128, seed=1234, labelCol='label')\n",
    "# train the model\n",
    "model = trainer.fit(train_data)"
   ]
  },
  {
   "cell_type": "code",
   "execution_count": 24,
   "metadata": {},
   "outputs": [],
   "source": [
    "from pyspark.ml.evaluation import MulticlassClassificationEvaluator\n",
    "# compute accuracy on the test set\n",
    "result = model.transform(test_data)\n",
    "\n"
   ]
  },
  {
   "cell_type": "code",
   "execution_count": 25,
   "metadata": {},
   "outputs": [
    {
     "name": "stdout",
     "output_type": "stream",
     "text": [
      "Test set accuracy = 0.8554216867469879\n"
     ]
    }
   ],
   "source": [
    "predictionAndLabels = result.select(\"prediction\", \"label\")\n",
    "evaluator = MulticlassClassificationEvaluator(metricName=\"accuracy\")\n",
    "print(\"Test set accuracy = \" + str(evaluator.evaluate(predictionAndLabels)))"
   ]
  },
  {
   "cell_type": "code",
   "execution_count": null,
   "metadata": {},
   "outputs": [],
   "source": []
  }
 ],
 "metadata": {
  "kernelspec": {
   "display_name": "Python 3",
   "language": "python",
   "name": "python3"
  },
  "language_info": {
   "codemirror_mode": {
    "name": "ipython",
    "version": 3
   },
   "file_extension": ".py",
   "mimetype": "text/x-python",
   "name": "python",
   "nbconvert_exporter": "python",
   "pygments_lexer": "ipython3",
   "version": "3.5.4"
  }
 },
 "nbformat": 4,
 "nbformat_minor": 2
}

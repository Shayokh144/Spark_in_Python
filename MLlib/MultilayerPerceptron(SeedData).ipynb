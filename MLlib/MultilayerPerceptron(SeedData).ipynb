{
 "cells": [
  {
   "cell_type": "markdown",
   "metadata": {},
   "source": [
    "## [Multilayer Perceptron Classifier](https://spark.apache.org/docs/2.1.0/ml-classification-regression.html#multilayer-perceptron-classifier)"
   ]
  },
  {
   "cell_type": "code",
   "execution_count": 1,
   "metadata": {},
   "outputs": [],
   "source": [
    "import findspark\n",
    "findspark.init('/home/asif/spark-2.1.0-bin-hadoop2.7')\n",
    "from pyspark.sql import SparkSession\n",
    "spark = SparkSession.builder.appName('FFonSeedData').getOrCreate()"
   ]
  },
  {
   "cell_type": "code",
   "execution_count": 2,
   "metadata": {},
   "outputs": [],
   "source": [
    "SeedData = spark.read.csv('seed_data.txt', inferSchema=True,sep='\\t')"
   ]
  },
  {
   "cell_type": "code",
   "execution_count": 3,
   "metadata": {},
   "outputs": [
    {
     "name": "stdout",
     "output_type": "stream",
     "text": [
      "root\n",
      " |-- _c0: double (nullable = true)\n",
      " |-- _c1: double (nullable = true)\n",
      " |-- _c2: double (nullable = true)\n",
      " |-- _c3: double (nullable = true)\n",
      " |-- _c4: double (nullable = true)\n",
      " |-- _c5: double (nullable = true)\n",
      " |-- _c6: double (nullable = true)\n",
      " |-- _c7: integer (nullable = true)\n",
      "\n"
     ]
    },
    {
     "data": {
      "text/plain": [
       "['_c0', '_c1', '_c2', '_c3', '_c4', '_c5', '_c6', '_c7']"
      ]
     },
     "execution_count": 3,
     "metadata": {},
     "output_type": "execute_result"
    }
   ],
   "source": [
    "SeedData.printSchema()\n",
    "SeedData.columns"
   ]
  },
  {
   "cell_type": "code",
   "execution_count": 4,
   "metadata": {},
   "outputs": [
    {
     "name": "stdout",
     "output_type": "stream",
     "text": [
      "root\n",
      " |-- area: double (nullable = true)\n",
      " |-- perimeter: double (nullable = true)\n",
      " |-- compactness: double (nullable = true)\n",
      " |-- length_of_kernel: double (nullable = true)\n",
      " |-- width_of_kernel: double (nullable = true)\n",
      " |-- asymmetry_coefficient: double (nullable = true)\n",
      " |-- length_of_kernel_groove: double (nullable = true)\n",
      " |-- label: integer (nullable = true)\n",
      "\n"
     ]
    }
   ],
   "source": [
    "SeedData = SeedData.withColumnRenamed(\"_c0\", \"area\").withColumnRenamed(\"_c1\", \"perimeter\")\\\n",
    "                   .withColumnRenamed(\"_c2\", \"compactness\").withColumnRenamed(\"_c3\", \"length_of_kernel\")\\\n",
    "                   .withColumnRenamed(\"_c4\", \"width_of_kernel\").withColumnRenamed(\"_c5\", \"asymmetry_coefficient\")\\\n",
    "                   .withColumnRenamed(\"_c6\", \"length_of_kernel_groove\").withColumnRenamed(\"_c7\", \"label\")\n",
    "SeedData.printSchema()"
   ]
  },
  {
   "cell_type": "code",
   "execution_count": 5,
   "metadata": {},
   "outputs": [
    {
     "data": {
      "text/plain": [
       "[Row(area=15.26, perimeter=14.84, compactness=0.871, length_of_kernel=5.763, width_of_kernel=3.312, asymmetry_coefficient=2.221, length_of_kernel_groove=5.22, label=1)]"
      ]
     },
     "execution_count": 5,
     "metadata": {},
     "output_type": "execute_result"
    }
   ],
   "source": [
    "SeedData.head(1)"
   ]
  },
  {
   "cell_type": "code",
   "execution_count": 6,
   "metadata": {},
   "outputs": [
    {
     "name": "stdout",
     "output_type": "stream",
     "text": [
      "root\n",
      " |-- area: double (nullable = true)\n",
      " |-- perimeter: double (nullable = true)\n",
      " |-- compactness: double (nullable = true)\n",
      " |-- length_of_kernel: double (nullable = true)\n",
      " |-- width_of_kernel: double (nullable = true)\n",
      " |-- asymmetry_coefficient: double (nullable = true)\n",
      " |-- length_of_kernel_groove: double (nullable = true)\n",
      " |-- label: integer (nullable = true)\n",
      "\n"
     ]
    }
   ],
   "source": [
    "from pyspark.sql.types import IntegerType\n",
    "\n",
    "SeedData = SeedData.withColumn(\"label\", SeedData[\"label\"].cast(IntegerType()))\n",
    "SeedData.printSchema()"
   ]
  },
  {
   "cell_type": "code",
   "execution_count": 7,
   "metadata": {},
   "outputs": [
    {
     "name": "stdout",
     "output_type": "stream",
     "text": [
      "3\n",
      "+-----+\n",
      "|label|\n",
      "+-----+\n",
      "|    1|\n",
      "|    3|\n",
      "|    2|\n",
      "+-----+\n",
      "\n"
     ]
    }
   ],
   "source": [
    "print(SeedData.select('label').distinct().count())\n",
    "SeedData.select('label').distinct().show()"
   ]
  },
  {
   "cell_type": "code",
   "execution_count": 8,
   "metadata": {},
   "outputs": [
    {
     "name": "stdout",
     "output_type": "stream",
     "text": [
      "+-----+---------+-----------+----------------+---------------+---------------------+-----------------------+-----+\n",
      "| area|perimeter|compactness|length_of_kernel|width_of_kernel|asymmetry_coefficient|length_of_kernel_groove|label|\n",
      "+-----+---------+-----------+----------------+---------------+---------------------+-----------------------+-----+\n",
      "|15.26|    14.84|      0.871|           5.763|          3.312|                2.221|                   5.22|    0|\n",
      "|14.88|    14.57|     0.8811|           5.554|          3.333|                1.018|                  4.956|    0|\n",
      "|14.29|    14.09|      0.905|           5.291|          3.337|                2.699|                  4.825|    0|\n",
      "|13.84|    13.94|     0.8955|           5.324|          3.379|                2.259|                  4.805|    0|\n",
      "|16.14|    14.99|     0.9034|           5.658|          3.562|                1.355|                  5.175|    0|\n",
      "|14.38|    14.21|     0.8951|           5.386|          3.312|                2.462|                  4.956|    0|\n",
      "|14.69|    14.49|     0.8799|           5.563|          3.259|                3.586|                  5.219|    0|\n",
      "|14.11|     14.1|     0.8911|            5.42|          3.302|                  2.7|                    5.0|    0|\n",
      "|16.63|    15.46|     0.8747|           6.053|          3.465|                 2.04|                  5.877|    0|\n",
      "|16.44|    15.25|      0.888|           5.884|          3.505|                1.969|                  5.533|    0|\n",
      "|15.26|    14.85|     0.8696|           5.714|          3.242|                4.543|                  5.314|    0|\n",
      "|14.03|    14.16|     0.8796|           5.438|          3.201|                1.717|                  5.001|    0|\n",
      "|13.89|    14.02|      0.888|           5.439|          3.199|                3.986|                  4.738|    0|\n",
      "|13.78|    14.06|     0.8759|           5.479|          3.156|                3.136|                  4.872|    0|\n",
      "|13.74|    14.05|     0.8744|           5.482|          3.114|                2.932|                  4.825|    0|\n",
      "|14.59|    14.28|     0.8993|           5.351|          3.333|                4.185|                  4.781|    0|\n",
      "|13.99|    13.83|     0.9183|           5.119|          3.383|                5.234|                  4.781|    0|\n",
      "|15.69|    14.75|     0.9058|           5.527|          3.514|                1.599|                  5.046|    0|\n",
      "| 14.7|    14.21|     0.9153|           5.205|          3.466|                1.767|                  4.649|    0|\n",
      "|12.72|    13.57|     0.8686|           5.226|          3.049|                4.102|                  4.914|    0|\n",
      "+-----+---------+-----------+----------------+---------------+---------------------+-----------------------+-----+\n",
      "only showing top 20 rows\n",
      "\n",
      "root\n",
      " |-- area: double (nullable = true)\n",
      " |-- perimeter: double (nullable = true)\n",
      " |-- compactness: double (nullable = true)\n",
      " |-- length_of_kernel: double (nullable = true)\n",
      " |-- width_of_kernel: double (nullable = true)\n",
      " |-- asymmetry_coefficient: double (nullable = true)\n",
      " |-- length_of_kernel_groove: double (nullable = true)\n",
      " |-- label: integer (nullable = true)\n",
      "\n",
      "3\n",
      "+-----+\n",
      "|label|\n",
      "+-----+\n",
      "|    1|\n",
      "|    2|\n",
      "|    0|\n",
      "+-----+\n",
      "\n"
     ]
    }
   ],
   "source": [
    "\n",
    "from pyspark.sql.functions import col, udf\n",
    "from pyspark.sql.types import IntegerType\n",
    "func =  udf (lambda x: int(x-1), IntegerType())\n",
    "SeedData = SeedData.withColumn('label', func(col('label')))\n",
    "SeedData.show()\n",
    "SeedData.printSchema()\n",
    "print(SeedData.select('label').distinct().count())\n",
    "SeedData.select('label').distinct().show()"
   ]
  },
  {
   "cell_type": "code",
   "execution_count": 9,
   "metadata": {},
   "outputs": [
    {
     "name": "stdout",
     "output_type": "stream",
     "text": [
      "+-----+\n",
      "|label|\n",
      "+-----+\n",
      "|    0|\n",
      "|    0|\n",
      "|    0|\n",
      "|    0|\n",
      "|    0|\n",
      "|    0|\n",
      "|    0|\n",
      "|    0|\n",
      "|    0|\n",
      "|    0|\n",
      "|    0|\n",
      "|    0|\n",
      "|    0|\n",
      "|    0|\n",
      "|    0|\n",
      "|    0|\n",
      "|    0|\n",
      "|    0|\n",
      "|    0|\n",
      "|    0|\n",
      "+-----+\n",
      "only showing top 20 rows\n",
      "\n"
     ]
    }
   ],
   "source": [
    "SeedData.select('label').show()"
   ]
  },
  {
   "cell_type": "code",
   "execution_count": 10,
   "metadata": {},
   "outputs": [
    {
     "name": "stdout",
     "output_type": "stream",
     "text": [
      "+-------+-----------------+\n",
      "|summary|            label|\n",
      "+-------+-----------------+\n",
      "|  count|              210|\n",
      "|   mean|              1.0|\n",
      "| stddev|0.818447591071135|\n",
      "|    min|                0|\n",
      "|    max|                2|\n",
      "+-------+-----------------+\n",
      "\n"
     ]
    }
   ],
   "source": [
    "SeedData.describe('label').show()"
   ]
  },
  {
   "cell_type": "code",
   "execution_count": 11,
   "metadata": {},
   "outputs": [
    {
     "data": {
      "text/plain": [
       "['area',\n",
       " 'perimeter',\n",
       " 'compactness',\n",
       " 'length_of_kernel',\n",
       " 'width_of_kernel',\n",
       " 'asymmetry_coefficient',\n",
       " 'length_of_kernel_groove',\n",
       " 'label']"
      ]
     },
     "execution_count": 11,
     "metadata": {},
     "output_type": "execute_result"
    }
   ],
   "source": [
    "SeedData.columns"
   ]
  },
  {
   "cell_type": "code",
   "execution_count": 12,
   "metadata": {},
   "outputs": [],
   "source": [
    "from pyspark.ml.linalg import Vectors\n",
    "from pyspark.ml.feature import VectorAssembler\n",
    "assembler = VectorAssembler(inputCols =['area', 'perimeter','compactness','length_of_kernel',\n",
    "                                         'width_of_kernel','asymmetry_coefficient','length_of_kernel_groove'],\n",
    "                            outputCol = 'features')"
   ]
  },
  {
   "cell_type": "code",
   "execution_count": 13,
   "metadata": {},
   "outputs": [
    {
     "data": {
      "text/plain": [
       "[Row(area=15.26, perimeter=14.84, compactness=0.871, length_of_kernel=5.763, width_of_kernel=3.312, asymmetry_coefficient=2.221, length_of_kernel_groove=5.22, label=0, features=DenseVector([15.26, 14.84, 0.871, 5.763, 3.312, 2.221, 5.22]))]"
      ]
     },
     "execution_count": 13,
     "metadata": {},
     "output_type": "execute_result"
    }
   ],
   "source": [
    "dataFromAssembler = assembler.transform(SeedData)\n",
    "dataFromAssembler.head(1)"
   ]
  },
  {
   "cell_type": "code",
   "execution_count": 14,
   "metadata": {},
   "outputs": [
    {
     "data": {
      "text/plain": [
       "[Row(features=DenseVector([15.26, 14.84, 0.871, 5.763, 3.312, 2.221, 5.22]), label=0)]"
      ]
     },
     "execution_count": 14,
     "metadata": {},
     "output_type": "execute_result"
    }
   ],
   "source": [
    "final_data = dataFromAssembler.select('features','label')\n",
    "final_data.head(1)"
   ]
  },
  {
   "cell_type": "code",
   "execution_count": 15,
   "metadata": {},
   "outputs": [],
   "source": [
    "train_data, test_data = final_data.randomSplit([0.7,0.3])\n",
    "layers = [7, 7, 5,3, 3]\n",
    "from pyspark.ml.classification import MultilayerPerceptronClassifier\n",
    "# create the trainer and set its parameters\n",
    "trainer = MultilayerPerceptronClassifier(maxIter=100, layers=layers, blockSize=128, seed=1234, labelCol='label')\n",
    "# train the model\n",
    "model = trainer.fit(train_data)\n",
    "from pyspark.ml.evaluation import MulticlassClassificationEvaluator\n",
    "# compute accuracy on the test set\n",
    "result = model.transform(test_data)\n"
   ]
  },
  {
   "cell_type": "code",
   "execution_count": 16,
   "metadata": {},
   "outputs": [
    {
     "name": "stdout",
     "output_type": "stream",
     "text": [
      "Test set accuracy = 0.8333333333333334\n"
     ]
    }
   ],
   "source": [
    "predictionAndLabels = result.select(\"prediction\", \"label\")\n",
    "evaluator = MulticlassClassificationEvaluator(metricName=\"accuracy\")\n",
    "print(\"Test set accuracy = \" + str(evaluator.evaluate(predictionAndLabels)))"
   ]
  },
  {
   "cell_type": "code",
   "execution_count": null,
   "metadata": {},
   "outputs": [],
   "source": []
  }
 ],
 "metadata": {
  "kernelspec": {
   "display_name": "Python 3",
   "language": "python",
   "name": "python3"
  },
  "language_info": {
   "codemirror_mode": {
    "name": "ipython",
    "version": 3
   },
   "file_extension": ".py",
   "mimetype": "text/x-python",
   "name": "python",
   "nbconvert_exporter": "python",
   "pygments_lexer": "ipython3",
   "version": "3.5.4"
  }
 },
 "nbformat": 4,
 "nbformat_minor": 2
}
